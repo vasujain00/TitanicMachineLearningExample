{
 "cells": [
  {
   "cell_type": "code",
   "execution_count": null,
   "metadata": {
    "collapsed": true
   },
   "outputs": [],
   "source": [
    "import numpy as np\n",
    "import pandas as pd\n",
    "\n",
    "#The Machine learning alogorithm\n",
    "from sklearn.ensemble import RandomForestClassifier\n",
    "\n",
    "# Test train split\n",
    "from sklearn.cross_validation import train_test_split\n",
    "\n",
    "# Just to switch off pandas warning\n",
    "pd.options.mode.chained_assignment = None\n",
    "\n",
    "# Used to write our model to a file\n",
    "from sklearn.externals import joblib\n",
    "\n",
    "data = pd.read_csv(\"titanic_train.csv\")\n",
    "data.head()\n",
    "\n",
    "data.columns\n",
    "\n",
    "median_age = data['age'].median()\n",
    "print(\"Median age is {}\".format(median_age))\n",
    "\n",
    "data['age'].fillna(median_age, inplace = True)\n",
    "data['age'].head()\n",
    "\n",
    "data_inputs = data[[\"pclass\", \"age\", \"sex\"]]\n",
    "data_inputs.head()\n",
    "\n",
    "expected_output = data[[\"survived\"]]\n",
    "expected_output.head()\n",
    "\n",
    "data_inputs[\"pclass\"].replace(\"3rd\", 3, inplace = True)\n",
    "data_inputs[\"pclass\"].replace(\"2nd\", 2, inplace = True)\n",
    "data_inputs[\"pclass\"].replace(\"1st\", 1, inplace = True)\n",
    "data_inputs.head()\n",
    "\n",
    "data_inputs[\"sex\"] = np.where(data_inputs[\"sex\"] == \"female\", 0, 1)\n",
    "data_inputs.head()\n",
    "\n",
    "inputs_train, inputs_test, expected_output_train, expected_output_test   = train_test_split (data_inputs, expected_output, test_size = 0.33, random_state = 42)\n",
    "\n",
    "print(inputs_train.head())\n",
    "print(expected_output_train.head())\n",
    "\n",
    "rf = RandomForestClassifier (n_estimators=100)\n",
    "\n",
    "rf.fit(inputs_train, expected_output_train)\n",
    "\n",
    "accuracy = rf.score(inputs_test, expected_output_test)\n",
    "print(\"Accuracy = {}%\".format(accuracy * 100))\n",
    "\n",
    "joblib.dump(rf, \"titanic_model1\", compress=9)"
   ]
  }
 ],
 "metadata": {
  "kernelspec": {
   "display_name": "Python 3",
   "language": "python",
   "name": "python3"
  },
  "language_info": {
   "codemirror_mode": {
    "name": "ipython",
    "version": 3
   },
   "file_extension": ".py",
   "mimetype": "text/x-python",
   "name": "python",
   "nbconvert_exporter": "python",
   "pygments_lexer": "ipython3",
   "version": "3.6.1"
  }
 },
 "nbformat": 4,
 "nbformat_minor": 2
}
